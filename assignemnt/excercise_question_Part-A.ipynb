{
 "cells": [
  {
   "cell_type": "markdown",
   "metadata": {},
   "source": [
    "# Importing important library for data analysis"
   ]
  },
  {
   "cell_type": "code",
   "execution_count": 1,
   "metadata": {},
   "outputs": [],
   "source": [
    "import numpy as np    # linear algebra\n",
    "import pandas as pd   # data processing, CSV file I/O (e.g. pd.read_csv)\n",
    "import matplotlib.pyplot as plt  # plotting"
   ]
  },
  {
   "cell_type": "markdown",
   "metadata": {},
   "source": [
    "# Data preparation"
   ]
  },
  {
   "cell_type": "code",
   "execution_count": 2,
   "metadata": {},
   "outputs": [
    {
     "data": {
      "text/html": [
       "<div>\n",
       "<style scoped>\n",
       "    .dataframe tbody tr th:only-of-type {\n",
       "        vertical-align: middle;\n",
       "    }\n",
       "\n",
       "    .dataframe tbody tr th {\n",
       "        vertical-align: top;\n",
       "    }\n",
       "\n",
       "    .dataframe thead th {\n",
       "        text-align: right;\n",
       "    }\n",
       "</style>\n",
       "<table border=\"1\" class=\"dataframe\">\n",
       "  <thead>\n",
       "    <tr style=\"text-align: right;\">\n",
       "      <th></th>\n",
       "      <th>Month</th>\n",
       "      <th>Contribution</th>\n",
       "      <th>Amount won by the bidder</th>\n",
       "      <th>Chit fund organizer commission</th>\n",
       "      <th>Net amount recd by Bid winner</th>\n",
       "      <th>Amount returned to everyone in the group</th>\n",
       "    </tr>\n",
       "  </thead>\n",
       "  <tbody>\n",
       "    <tr>\n",
       "      <th>1</th>\n",
       "      <td>1</td>\n",
       "      <td>2000</td>\n",
       "      <td>40000</td>\n",
       "      <td>2500</td>\n",
       "      <td>37500</td>\n",
       "      <td>400</td>\n",
       "    </tr>\n",
       "    <tr>\n",
       "      <th>2</th>\n",
       "      <td>2</td>\n",
       "      <td>2000</td>\n",
       "      <td>42000</td>\n",
       "      <td>2500</td>\n",
       "      <td>39500</td>\n",
       "      <td>320</td>\n",
       "    </tr>\n",
       "    <tr>\n",
       "      <th>3</th>\n",
       "      <td>3</td>\n",
       "      <td>2000</td>\n",
       "      <td>45000</td>\n",
       "      <td>2500</td>\n",
       "      <td>42500</td>\n",
       "      <td>200</td>\n",
       "    </tr>\n",
       "    <tr>\n",
       "      <th>4</th>\n",
       "      <td>4</td>\n",
       "      <td>2000</td>\n",
       "      <td>48000</td>\n",
       "      <td>2500</td>\n",
       "      <td>45500</td>\n",
       "      <td>80</td>\n",
       "    </tr>\n",
       "    <tr>\n",
       "      <th>5</th>\n",
       "      <td>5</td>\n",
       "      <td>2000</td>\n",
       "      <td>40000</td>\n",
       "      <td>2500</td>\n",
       "      <td>37500</td>\n",
       "      <td>400</td>\n",
       "    </tr>\n",
       "    <tr>\n",
       "      <th>6</th>\n",
       "      <td>6</td>\n",
       "      <td>2000</td>\n",
       "      <td>42000</td>\n",
       "      <td>2500</td>\n",
       "      <td>39500</td>\n",
       "      <td>320</td>\n",
       "    </tr>\n",
       "    <tr>\n",
       "      <th>7</th>\n",
       "      <td>7</td>\n",
       "      <td>2000</td>\n",
       "      <td>43000</td>\n",
       "      <td>2500</td>\n",
       "      <td>40500</td>\n",
       "      <td>280</td>\n",
       "    </tr>\n",
       "    <tr>\n",
       "      <th>8</th>\n",
       "      <td>8</td>\n",
       "      <td>2000</td>\n",
       "      <td>44000</td>\n",
       "      <td>2500</td>\n",
       "      <td>41500</td>\n",
       "      <td>240</td>\n",
       "    </tr>\n",
       "    <tr>\n",
       "      <th>9</th>\n",
       "      <td>9</td>\n",
       "      <td>2000</td>\n",
       "      <td>40000</td>\n",
       "      <td>2500</td>\n",
       "      <td>37500</td>\n",
       "      <td>400</td>\n",
       "    </tr>\n",
       "    <tr>\n",
       "      <th>10</th>\n",
       "      <td>10</td>\n",
       "      <td>2000</td>\n",
       "      <td>42000</td>\n",
       "      <td>2500</td>\n",
       "      <td>39500</td>\n",
       "      <td>320</td>\n",
       "    </tr>\n",
       "  </tbody>\n",
       "</table>\n",
       "</div>"
      ],
      "text/plain": [
       "   Month Contribution Amount won by the bidder Chit fund organizer commission  \\\n",
       "1      1         2000                    40000                           2500   \n",
       "2      2         2000                    42000                           2500   \n",
       "3      3         2000                    45000                           2500   \n",
       "4      4         2000                    48000                           2500   \n",
       "5      5         2000                    40000                           2500   \n",
       "6      6         2000                    42000                           2500   \n",
       "7      7         2000                    43000                           2500   \n",
       "8      8         2000                    44000                           2500   \n",
       "9      9         2000                    40000                           2500   \n",
       "10    10         2000                    42000                           2500   \n",
       "\n",
       "   Net amount recd by Bid winner Amount returned to everyone in the group  \n",
       "1                          37500                                      400  \n",
       "2                          39500                                      320  \n",
       "3                          42500                                      200  \n",
       "4                          45500                                       80  \n",
       "5                          37500                                      400  \n",
       "6                          39500                                      320  \n",
       "7                          40500                                      280  \n",
       "8                          41500                                      240  \n",
       "9                          37500                                      400  \n",
       "10                         39500                                      320  "
      ]
     },
     "execution_count": 2,
     "metadata": {},
     "output_type": "execute_result"
    }
   ],
   "source": [
    "# reading the data\n",
    "exercise_data=pd.read_excel('Exercise Data.xlsx',names=['Month','Contribution','Amount won by the bidder','Chit fund organizer commission','Net amount recd by Bid winner','Amount returned to everyone in the group'])\n",
    "#drop 1st row of data\n",
    "exercise_data=exercise_data.drop(0)\n",
    "exercise=exercise_data\n",
    "#showing top 10 rows of data\n",
    "exercise_data.head(n=10)"
   ]
  },
  {
   "cell_type": "code",
   "execution_count": 3,
   "metadata": {},
   "outputs": [
    {
     "name": "stdout",
     "output_type": "stream",
     "text": [
      "(25, 6)\n"
     ]
    },
    {
     "data": {
      "text/html": [
       "<div>\n",
       "<style scoped>\n",
       "    .dataframe tbody tr th:only-of-type {\n",
       "        vertical-align: middle;\n",
       "    }\n",
       "\n",
       "    .dataframe tbody tr th {\n",
       "        vertical-align: top;\n",
       "    }\n",
       "\n",
       "    .dataframe thead th {\n",
       "        text-align: right;\n",
       "    }\n",
       "</style>\n",
       "<table border=\"1\" class=\"dataframe\">\n",
       "  <thead>\n",
       "    <tr style=\"text-align: right;\">\n",
       "      <th></th>\n",
       "      <th>Month</th>\n",
       "      <th>Contribution</th>\n",
       "      <th>Amount won by the bidder</th>\n",
       "      <th>Chit fund organizer commission</th>\n",
       "      <th>Net amount recd by Bid winner</th>\n",
       "      <th>Amount returned to everyone in the group</th>\n",
       "    </tr>\n",
       "  </thead>\n",
       "  <tbody>\n",
       "    <tr>\n",
       "      <th>count</th>\n",
       "      <td>25</td>\n",
       "      <td>25</td>\n",
       "      <td>25</td>\n",
       "      <td>25</td>\n",
       "      <td>25</td>\n",
       "      <td>25</td>\n",
       "    </tr>\n",
       "    <tr>\n",
       "      <th>unique</th>\n",
       "      <td>25</td>\n",
       "      <td>1</td>\n",
       "      <td>10</td>\n",
       "      <td>1</td>\n",
       "      <td>10</td>\n",
       "      <td>10</td>\n",
       "    </tr>\n",
       "    <tr>\n",
       "      <th>top</th>\n",
       "      <td>25</td>\n",
       "      <td>2000</td>\n",
       "      <td>42000</td>\n",
       "      <td>2500</td>\n",
       "      <td>39500</td>\n",
       "      <td>320</td>\n",
       "    </tr>\n",
       "    <tr>\n",
       "      <th>freq</th>\n",
       "      <td>1</td>\n",
       "      <td>25</td>\n",
       "      <td>5</td>\n",
       "      <td>25</td>\n",
       "      <td>5</td>\n",
       "      <td>5</td>\n",
       "    </tr>\n",
       "  </tbody>\n",
       "</table>\n",
       "</div>"
      ],
      "text/plain": [
       "        Month  Contribution  Amount won by the bidder  \\\n",
       "count      25            25                        25   \n",
       "unique     25             1                        10   \n",
       "top        25          2000                     42000   \n",
       "freq        1            25                         5   \n",
       "\n",
       "        Chit fund organizer commission  Net amount recd by Bid winner  \\\n",
       "count                               25                             25   \n",
       "unique                               1                             10   \n",
       "top                               2500                          39500   \n",
       "freq                                25                              5   \n",
       "\n",
       "        Amount returned to everyone in the group  \n",
       "count                                         25  \n",
       "unique                                        10  \n",
       "top                                          320  \n",
       "freq                                           5  "
      ]
     },
     "execution_count": 3,
     "metadata": {},
     "output_type": "execute_result"
    }
   ],
   "source": [
    "print(exercise_data.shape)  \n",
    "exercise_data.describe() #it discribe important aspect of data"
   ]
  },
  {
   "cell_type": "markdown",
   "metadata": {},
   "source": [
    "# Calculation for Total returns"
   ]
  },
  {
   "cell_type": "code",
   "execution_count": 4,
   "metadata": {},
   "outputs": [],
   "source": [
    "# converting data into numpy array type\n",
    "exercise_data=exercise_data.values  \n",
    "Total_returns=[]\n",
    "amount_return_to_everyone=int(0)\n",
    "for i in range(25):\n",
    "    amount_return_to_everyone+=(exercise_data[i][5])\n",
    "for i in range(25):\n",
    "    Total_returns.append(exercise_data[i][4]+amount_return_to_everyone)\n",
    "Total_returns=np.array(Total_returns,dtype='int32')  #converting list to numpy array"
   ]
  },
  {
   "cell_type": "markdown",
   "metadata": {},
   "source": [
    "# Calculation for annual returns"
   ]
  },
  {
   "cell_type": "code",
   "execution_count": 5,
   "metadata": {},
   "outputs": [],
   "source": [
    "annual_return=(Total_returns*(12/25))"
   ]
  },
  {
   "cell_type": "markdown",
   "metadata": {},
   "source": [
    "# Calculation for return percentage\n"
   ]
  },
  {
   "cell_type": "code",
   "execution_count": 6,
   "metadata": {},
   "outputs": [],
   "source": [
    "return_percentage=(Total_returns*(100/50000))"
   ]
  },
  {
   "cell_type": "markdown",
   "metadata": {},
   "source": [
    "# Annualizer return of the person who bids in last and first month"
   ]
  },
  {
   "cell_type": "code",
   "execution_count": 7,
   "metadata": {},
   "outputs": [
    {
     "name": "stdout",
     "output_type": "stream",
     "text": [
      "Annualized  Return of the person who bids in the last month is: 25776.0\n",
      "Annualized Return of the person who bids in the first month is: 20976.0\n"
     ]
    }
   ],
   "source": [
    "print('Annualized  Return of the person who bids in the last month is: {}'.format((annual_return[-1])))\n",
    "print('Annualized Return of the person who bids in the first month is: {}'.format((annual_return[0])))"
   ]
  },
  {
   "cell_type": "markdown",
   "metadata": {},
   "source": [
    "# Adding Total return,annualized return,return percentage column in exercise data"
   ]
  },
  {
   "cell_type": "code",
   "execution_count": 8,
   "metadata": {},
   "outputs": [],
   "source": [
    "exercise['Total Return']=Total_returns\n",
    "exercise['Annualized Return']=annual_return\n",
    "exercise['Return Percentage']=return_percentage"
   ]
  },
  {
   "cell_type": "markdown",
   "metadata": {},
   "source": [
    "# Converting given data in the form of excel data"
   ]
  },
  {
   "cell_type": "code",
   "execution_count": 9,
   "metadata": {},
   "outputs": [],
   "source": [
    "exercise.to_excel('exercise data output.xlsx')"
   ]
  },
  {
   "cell_type": "code",
   "execution_count": null,
   "metadata": {},
   "outputs": [],
   "source": []
  }
 ],
 "metadata": {
  "kernelspec": {
   "display_name": "Python 3",
   "language": "python",
   "name": "python3"
  },
  "language_info": {
   "codemirror_mode": {
    "name": "ipython",
    "version": 3
   },
   "file_extension": ".py",
   "mimetype": "text/x-python",
   "name": "python",
   "nbconvert_exporter": "python",
   "pygments_lexer": "ipython3",
   "version": "3.7.3"
  }
 },
 "nbformat": 4,
 "nbformat_minor": 2
}
